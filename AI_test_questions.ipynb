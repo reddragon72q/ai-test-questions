{
  "nbformat": 4,
  "nbformat_minor": 0,
  "metadata": {
    "colab": {
      "provenance": [],
      "authorship_tag": "ABX9TyMRuYUQc5IBMx3ayz7s+w+L",
      "include_colab_link": true
    },
    "kernelspec": {
      "name": "python3",
      "display_name": "Python 3"
    },
    "language_info": {
      "name": "python"
    }
  },
  "cells": [
    {
      "cell_type": "markdown",
      "metadata": {
        "id": "view-in-github",
        "colab_type": "text"
      },
      "source": [
        "<a href=\"https://colab.research.google.com/github/reddragon72q/ai-test-questions/blob/main/AI_test_questions.ipynb\" target=\"_parent\"><img src=\"https://colab.research.google.com/assets/colab-badge.svg\" alt=\"Open In Colab\"/></a>"
      ]
    },
    {
      "cell_type": "code",
      "execution_count": null,
      "metadata": {
        "id": "Yr-pbuszOhmS"
      },
      "outputs": [],
      "source": []
    },
    {
      "cell_type": "markdown",
      "source": [
        "A random sample of 100 men is taken and their mean height is found to be 180 cm. The population variance is 36 cm2. Find the 95% confidence interval for the mean height of the population (μ).\n",
        "\n",
        "Answer choices\n",
        "\n",
        "Select only one option\n",
        "\n",
        "(179.648, 183.760)\n",
        "\n",
        "(178.248, 188.719)\n",
        "\n",
        "(177.124, 180.178)\n",
        "\n",
        "(178.824, 181.176)"
      ],
      "metadata": {
        "id": "1zV8wnj4OsrJ"
      }
    },
    {
      "cell_type": "markdown",
      "source": [
        "Answer is (178.824, 181.176)"
      ],
      "metadata": {
        "id": "sd3YtH-GO5Ox"
      }
    },
    {
      "cell_type": "code",
      "source": [
        "import numpy as np\n",
        "from  scipy.stats import norm\n",
        "np.round(norm.interval(0.95, loc = 180, scale = 6/np.sqrt(100)), 3)"
      ],
      "metadata": {
        "colab": {
          "base_uri": "https://localhost:8080/"
        },
        "id": "9oxFLZaqO6Wo",
        "outputId": "098fbab4-132b-41dd-c65a-6fa8087be102"
      },
      "execution_count": 1,
      "outputs": [
        {
          "output_type": "execute_result",
          "data": {
            "text/plain": [
              "array([178.824, 181.176])"
            ]
          },
          "metadata": {},
          "execution_count": 1
        }
      ]
    },
    {
      "cell_type": "markdown",
      "source": [
        "___________________________________________________________________________________________________________________"
      ],
      "metadata": {
        "id": "u_lUjt1IQc6x"
      }
    },
    {
      "cell_type": "markdown",
      "source": [
        "A landlord wants to rent an unfurnished one-bedroom apartment in Chicago. The mean monthly rent for a random sample of 100 apartments advertised on a website that lists apartments in Chicago for rent is $1000.\n",
        "\n",
        "Assume a population standard deviation of $200. What is the 95% confidence interval for the mean rent?\n",
        "\n",
        "Answer choices\n",
        "\n",
        "Select only one option\n",
        "\n",
        "(960.8, 1039.2)\n",
        "\n",
        "(968.1, 1032.1)\n",
        "\n",
        "(961.8, 1038.2)\n",
        "\n",
        "(965.5, 1035.5)"
      ],
      "metadata": {
        "id": "2U6jUx_sPcvw"
      }
    },
    {
      "cell_type": "markdown",
      "source": [
        "Answer is (960.8, 1039.2)"
      ],
      "metadata": {
        "id": "eDyWioh2P49S"
      }
    },
    {
      "cell_type": "code",
      "source": [
        "from scipy.stats import norm\n",
        "import numpy as np\n",
        "np.round(norm.interval(0.95, loc = 1000, scale = 200/np.sqrt(100)), 1)"
      ],
      "metadata": {
        "colab": {
          "base_uri": "https://localhost:8080/"
        },
        "id": "Y4QQ2talQHTo",
        "outputId": "f069719a-f8c1-4094-a3f7-e7e8248db288"
      },
      "execution_count": 2,
      "outputs": [
        {
          "output_type": "execute_result",
          "data": {
            "text/plain": [
              "array([ 960.8, 1039.2])"
            ]
          },
          "metadata": {},
          "execution_count": 2
        }
      ]
    },
    {
      "cell_type": "markdown",
      "source": [
        "___________________________________________________________________________________________________________________"
      ],
      "metadata": {
        "id": "daR3XtgNQVB7"
      }
    },
    {
      "cell_type": "markdown",
      "source": [
        "A survey of females aged 16-60 years was conducted by the Department of Population Censuses (DPC). It was found that a sample of fifty female students has a mean height of 160.9 cm with a standard deviation of 6 cm.\n",
        "\n",
        "Determine the confidence interval of height with a confidence level of 95% and conclude whether their heights are typical to the general population.\n",
        "\n",
        "Answer choices\n",
        "\n",
        "Select only one option\n",
        "\n",
        "(157.24, 161.56) - Heights are typical to the general population\n",
        "\n",
        "(159.19, 162.61) - Heights are typical to the general population\n",
        "\n",
        "(158.24, 160.36) - Heights are typical to the general population\n",
        "\n",
        "(150, 162) - Heights are typical to the general population"
      ],
      "metadata": {
        "id": "7MCGSp0DQRsC"
      }
    },
    {
      "cell_type": "markdown",
      "source": [
        "Answer is (159.19, 162.61)"
      ],
      "metadata": {
        "id": "JBHDDSTMQiLx"
      }
    },
    {
      "cell_type": "code",
      "source": [
        "from scipy.stats import t\n",
        "import numpy as np\n",
        "np.round(t.interval(0.95, df = 50-1, loc = 160.9, scale = 6/np.sqrt(50)), 2)"
      ],
      "metadata": {
        "colab": {
          "base_uri": "https://localhost:8080/"
        },
        "id": "6euhz58MQnOP",
        "outputId": "165df3e5-adfe-4d5c-9833-eec6a08f4a9e"
      },
      "execution_count": 3,
      "outputs": [
        {
          "output_type": "execute_result",
          "data": {
            "text/plain": [
              "array([159.19, 162.61])"
            ]
          },
          "metadata": {},
          "execution_count": 3
        }
      ]
    },
    {
      "cell_type": "markdown",
      "source": [
        "___________________________________________________________________________________________________________________"
      ],
      "metadata": {
        "id": "T-7h5KLMQ4mg"
      }
    }
  ]
}